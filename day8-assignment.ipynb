{
 "cells": [
  {
   "cell_type": "markdown",
   "metadata": {},
   "source": [
    "# Q1"
   ]
  },
  {
   "cell_type": "code",
   "execution_count": 1,
   "metadata": {},
   "outputs": [
    {
     "name": "stdout",
     "output_type": "stream",
     "text": [
      "enter the range8\n",
      "0\n",
      "1\n",
      "1\n",
      "2\n",
      "3\n",
      "5\n",
      "8\n",
      "13\n"
     ]
    }
   ],
   "source": [
    "def fiboncci(n):\n",
    "    a=0\n",
    "    b=1\n",
    "    print(a)\n",
    "    print(b)\n",
    "    for i in range(2,n):\n",
    "        c=a+b\n",
    "        print(c)\n",
    "        temp=c\n",
    "        a=b\n",
    "        b=temp\n",
    "\n",
    "def get_input(fiboncci):\n",
    "    n=int(input(\"enter the range\"))\n",
    "    return fiboncci(n)\n",
    "\n",
    "\n",
    "get_input(fiboncci)\n",
    "\n"
   ]
  },
  {
   "cell_type": "markdown",
   "metadata": {},
   "source": [
    "# Q2"
   ]
  },
  {
   "cell_type": "code",
   "execution_count": 5,
   "metadata": {},
   "outputs": [
    {
     "name": "stdout",
     "output_type": "stream",
     "text": [
      "Overwriting abc\n"
     ]
    }
   ],
   "source": [
    "%%writefile abc\n",
    "this is rj\n",
    "msd fan forever\n",
    "csk \n",
    "\n"
   ]
  },
  {
   "cell_type": "code",
   "execution_count": 6,
   "metadata": {},
   "outputs": [
    {
     "name": "stdout",
     "output_type": "stream",
     "text": [
      "this is rj\n",
      "\n",
      "msd fan forever\n",
      "\n",
      "csk \n",
      "\n",
      "\n",
      "\n",
      "error: not writable\n",
      "hey this is a sample code\n"
     ]
    }
   ],
   "source": [
    "f1=open(\"abc\",\"r\")\n",
    "for i in f1:\n",
    "    print(i)\n",
    "try:\n",
    "    f1.write(\"bye\")\n",
    "except Exception as e:\n",
    "    print(\"error:\",e)\n",
    "finally:\n",
    "    print(\"hey this is a sample code\")\n",
    "\n"
   ]
  },
  {
   "cell_type": "code",
   "execution_count": null,
   "metadata": {},
   "outputs": [],
   "source": []
  }
 ],
 "metadata": {
  "kernelspec": {
   "display_name": "Python 3",
   "language": "python",
   "name": "python3"
  },
  "language_info": {
   "codemirror_mode": {
    "name": "ipython",
    "version": 3
   },
   "file_extension": ".py",
   "mimetype": "text/x-python",
   "name": "python",
   "nbconvert_exporter": "python",
   "pygments_lexer": "ipython3",
   "version": "3.8.3"
  }
 },
 "nbformat": 4,
 "nbformat_minor": 4
}
