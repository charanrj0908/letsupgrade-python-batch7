{
 "cells": [
  {
   "cell_type": "markdown",
   "metadata": {},
   "source": [
    "# Q1"
   ]
  },
  {
   "cell_type": "code",
   "execution_count": 4,
   "metadata": {},
   "outputs": [
    {
     "name": "stdout",
     "output_type": "stream",
     "text": [
      "raj 50000\n",
      "balance: 65000\n",
      "balance: 70000\n",
      "balance: 60000\n",
      "balance: 40000\n",
      "balance: 30000\n"
     ]
    }
   ],
   "source": [
    "class bankaccount():\n",
    "    def __init__(self,ownername,balance):\n",
    "        self.ownername=ownername\n",
    "        self.balance=balance\n",
    "\n",
    "\n",
    "    def persondetails(self):\n",
    "        print(self.ownername,self.balance)\n",
    "    def deposit(self,deposit):\n",
    "\n",
    "        self.balance=self.balance+deposit\n",
    "    def withdraw(self,withdraw):\n",
    "        if self.balance>=withdraw:\n",
    "            self.balance=self.balance-withdraw\n",
    "        else:\n",
    "            print(\"funds are insufficient\")\n",
    "\n",
    "    def printbalance(self):\n",
    "        print(\"balance:\",self.balance)\n",
    "b1=bankaccount(\"raj\",50000)\n",
    "\n",
    "\n",
    "b1.persondetails()\n",
    "b1.deposit(5000)\n",
    "\n",
    "b1.deposit(10000)\n",
    "b1.printbalance()\n",
    "\n",
    "b1.deposit(5000)\n",
    "b1.printbalance()\n",
    "b1.withdraw(10000)\n",
    "b1.printbalance()\n",
    "b1.withdraw(20000)\n",
    "b1.printbalance()\n",
    "b1.withdraw(10000)\n",
    "b1.printbalance()\n",
    "\n",
    "\n"
   ]
  },
  {
   "cell_type": "markdown",
   "metadata": {},
   "source": [
    "# Q2"
   ]
  },
  {
   "cell_type": "code",
   "execution_count": 5,
   "metadata": {},
   "outputs": [
    {
     "name": "stdout",
     "output_type": "stream",
     "text": [
      "volume of cone is: 200.95999999999998\n",
      "surface area of cone is : 209.1128296468594\n"
     ]
    }
   ],
   "source": [
    "from math import *\n",
    "class cone():\n",
    "    def __init__(self,radius,height):\n",
    "        self.radius=radius\n",
    "        self.height=height\n",
    "    def volume(self):\n",
    "        V=(1/3)*3.14*self.radius*self.radius*self.height\n",
    "        print(\"volume of cone is:\",V)\n",
    "\n",
    "    def surfacearea(self):\n",
    "        A=3.14*self.radius*self.radius+3.14*self.radius*length\n",
    "        print(\"surface area of cone is :\",A)\n",
    "\n",
    "radius=float(4)\n",
    "height=float(12)\n",
    "length=float(sqrt((radius*radius)+(height*height)))\n",
    "c=cone(radius,height)\n",
    "c.volume()\n",
    "c.surfacearea()\n",
    "\n"
   ]
  },
  {
   "cell_type": "code",
   "execution_count": null,
   "metadata": {},
   "outputs": [],
   "source": []
  }
 ],
 "metadata": {
  "kernelspec": {
   "display_name": "Python 3",
   "language": "python",
   "name": "python3"
  },
  "language_info": {
   "codemirror_mode": {
    "name": "ipython",
    "version": 3
   },
   "file_extension": ".py",
   "mimetype": "text/x-python",
   "name": "python",
   "nbconvert_exporter": "python",
   "pygments_lexer": "ipython3",
   "version": "3.8.3"
  }
 },
 "nbformat": 4,
 "nbformat_minor": 4
}
