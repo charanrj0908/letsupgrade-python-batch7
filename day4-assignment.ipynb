{
 "cells": [
  {
   "cell_type": "code",
   "execution_count": 1,
   "metadata": {},
   "outputs": [
    {
     "name": "stdout",
     "output_type": "stream",
     "text": [
      "the first armstrong number is: 1741725\n"
     ]
    }
   ],
   "source": [
    "upper=702648264\n",
    "lower=1042000\n",
    "\n",
    "for i in range(lower,upper+1):\n",
    "    o=len(str(i))\n",
    "    temp=i\n",
    "    sum=0\n",
    "    while temp!=0:\n",
    "        a=temp%10\n",
    "        sum+=a**o\n",
    "        temp//=10\n",
    "\n",
    "\n",
    "    if sum==i:\n",
    "        print(\"the first armstrong number is:\",i)\n",
    "        break\n"
   ]
  },
  {
   "cell_type": "code",
   "execution_count": null,
   "metadata": {},
   "outputs": [],
   "source": []
  }
 ],
 "metadata": {
  "kernelspec": {
   "display_name": "Python 3",
   "language": "python",
   "name": "python3"
  },
  "language_info": {
   "codemirror_mode": {
    "name": "ipython",
    "version": 3
   },
   "file_extension": ".py",
   "mimetype": "text/x-python",
   "name": "python",
   "nbconvert_exporter": "python",
   "pygments_lexer": "ipython3",
   "version": "3.8.3"
  }
 },
 "nbformat": 4,
 "nbformat_minor": 4
}
